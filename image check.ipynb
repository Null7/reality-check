{
 "cells": [
  {
   "cell_type": "code",
   "execution_count": 60,
   "metadata": {
    "collapsed": true
   },
   "outputs": [],
   "source": [
    "import http.client\n",
    "import json\n",
    "import requests\n",
    "import urllib"
   ]
  },
  {
   "cell_type": "code",
   "execution_count": 61,
   "metadata": {
    "collapsed": true
   },
   "outputs": [],
   "source": [
    "IMAGE_PRIVATE_KEY = \"2feb90d93a234388af9098200f9e66fb\""
   ]
  },
  {
   "cell_type": "code",
   "execution_count": 62,
   "metadata": {
    "collapsed": true
   },
   "outputs": [],
   "source": [
    "def is_adult_content(body):\n",
    "    is_adult = False\n",
    "    is_racy = False\n",
    "    headers = {'Content-Type': 'application/json', 'Ocp-Apim-Subscription-Key': IMAGE_PRIVATE_KEY,}\n",
    "    params = urllib.parse.urlencode({'visualFeatures': 'Adult', 'language': 'en',})\n",
    "    microsoft_project_oxford_endpoint = 'api.projectoxford.ai'\n",
    "    try:\n",
    "        conn = http.client.HTTPSConnection(microsoft_project_oxford_endpoint)\n",
    "        conn.request(\"POST\", \"/vision/v1.0/analyze?%s\" % params, body, headers)\n",
    "        response = conn.getresponse()\n",
    "        data = response.read()\n",
    "        data = json.loads(data.decode(\"utf-8\"))\n",
    "        is_adult = data['adult']['isAdultContent']\n",
    "        is_racy =  data['adult']['isRacyContent']\n",
    "        conn.close()\n",
    "    except Exception as e:\n",
    "        print(\"[Errno {0}] {1}\".format(e.errno, e.strerror))\n",
    "    return is_adult or is_racy"
   ]
  },
  {
   "cell_type": "code",
   "execution_count": 63,
   "metadata": {},
   "outputs": [
    {
     "data": {
      "text/plain": [
       "True"
      ]
     },
     "execution_count": 63,
     "metadata": {},
     "output_type": "execute_result"
    }
   ],
   "source": [
    "is_adult_content(\"{\\\"url\\\":\\\"https://imgix.ranker.com/list_img_v2/7140/347140/original/the-best-porn-studios-u1?w=817&h=427&fm=jpg&q=50&fit=crop\\\"}\")"
   ]
  },
  {
   "cell_type": "code",
   "execution_count": null,
   "metadata": {
    "collapsed": true
   },
   "outputs": [],
   "source": []
  }
 ],
 "metadata": {
  "kernelspec": {
   "display_name": "Python 3",
   "language": "python",
   "name": "python3"
  },
  "language_info": {
   "codemirror_mode": {
    "name": "ipython",
    "version": 3
   },
   "file_extension": ".py",
   "mimetype": "text/x-python",
   "name": "python",
   "nbconvert_exporter": "python",
   "pygments_lexer": "ipython3",
   "version": "3.6.1"
  }
 },
 "nbformat": 4,
 "nbformat_minor": 2
}
