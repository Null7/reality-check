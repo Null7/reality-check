{
 "cells": [
  {
   "cell_type": "code",
   "execution_count": 18,
   "metadata": {
    "collapsed": true
   },
   "outputs": [],
   "source": [
    "import http.client\n",
    "import json\n",
    "import requests\n",
    "import urllib"
   ]
  },
  {
   "cell_type": "code",
   "execution_count": 19,
   "metadata": {
    "collapsed": true
   },
   "outputs": [],
   "source": [
    "IMAGE_PRIVATE_KEY = \"2feb90d93a234388af9098200f9e66fb\""
   ]
  },
  {
   "cell_type": "code",
   "execution_count": 20,
   "metadata": {
    "collapsed": true
   },
   "outputs": [],
   "source": [
    "def is_obscure(body):\n",
    "    is_adult = False\n",
    "    is_racy = False\n",
    "    headers = {'Content-Type': 'application/json', 'Ocp-Apim-Subscription-Key': IMAGE_PRIVATE_KEY,}\n",
    "    params = urllib.parse.urlencode({'visualFeatures': 'Adult', 'language': 'en',})\n",
    "    microsoft_project_oxford_endpoint = 'api.projectoxford.ai'\n",
    "    try:\n",
    "        conn = http.client.HTTPSConnection(microsoft_project_oxford_endpoint)\n",
    "        conn.request(\"POST\", \"/vision/v1.0/analyze?%s\" % params, body, headers)\n",
    "        response = conn.getresponse()\n",
    "        data = response.read()\n",
    "        data = json.loads(data.decode(\"utf-8\"))\n",
    "        is_adult = data['adult']['isAdultContent']\n",
    "        is_racy =  data['adult']['isRacyContent']\n",
    "        conn.close()\n",
    "    except Exception as e:\n",
    "        print(\"[Errno {0}] {1}\".format(e.errno, e.strerror))\n",
    "    return is_adult or is_racy"
   ]
  },
  {
   "cell_type": "code",
   "execution_count": 21,
   "metadata": {
    "collapsed": false
   },
   "outputs": [
    {
     "data": {
      "text/plain": [
       "False"
      ]
     },
     "execution_count": 21,
     "metadata": {},
     "output_type": "execute_result"
    }
   ],
   "source": [
    "is_obscure(\"{\\\"url\\\":\\\"https://imgix.ranker.com/list_img_v2/7140/347140/original/the-best-porn-studios-u1?w=817&h=427&fm=jpg&q=50&fit=crop\\\"}\")\n",
    "#is_obscure(\"{\\\"url\\\":\\\"https://i.ytimg.com/vi/tntOCGkgt98/maxresdefault.jpg\\\"}\")\n",
    "#https://imgix.ranker.com/list_img_v2/7140/347140/original/the-best-porn-studios-u1?w=817&h=427&fm=jpg&q=50&fit=crop\n",
    "#https://i.ytimg.com/vi/tntOCGkgt98/maxresdefault.jpg"
   ]
  }
 ],
 "metadata": {
  "kernelspec": {
   "display_name": "Python 3",
   "language": "python",
   "name": "python3"
  },
  "language_info": {
   "codemirror_mode": {
    "name": "ipython",
    "version": 3
   },
   "file_extension": ".py",
   "mimetype": "text/x-python",
   "name": "python",
   "nbconvert_exporter": "python",
   "pygments_lexer": "ipython3",
   "version": "3.6.0"
  }
 },
 "nbformat": 4,
 "nbformat_minor": 2
}
