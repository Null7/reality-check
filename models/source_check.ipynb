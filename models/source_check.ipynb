{
 "cells": [
  {
   "cell_type": "code",
   "execution_count": 9,
   "metadata": {
    "collapsed": true
   },
   "outputs": [],
   "source": [
    "import http.client\n",
    "import json"
   ]
  },
  {
   "cell_type": "code",
   "execution_count": 10,
   "metadata": {
    "collapsed": true
   },
   "outputs": [],
   "source": [
    "TRUST_PRIVATE_KEY = \"f90a2d4418381ae5dcf5f4f4883dc561f4463d0e\""
   ]
  },
  {
   "cell_type": "code",
   "execution_count": 22,
   "metadata": {
    "collapsed": true
   },
   "outputs": [],
   "source": [
    "def verified_links(url):\n",
    "    import requests\n",
    "    mywot_api_endpoint = \"http://api.mywot.com/0.4/public_link_json2\"\n",
    "    querystring = {\"hosts\":\"/\"+ url + \"/\",\"callback\":\"process\",\"key\" : TRUST_PRIVATE_KEY}\n",
    "    payload = \"\"\n",
    "    headers = {\n",
    "        'content-type': \"application/x-www-form-urlencoded\",\n",
    "        'cache-control': \"no-cache\",\n",
    "        'postman-token': \"93ffde57-c70f-a775-d5ce-03f8e152e9da\"\n",
    "        }\n",
    "    response = requests.request(\"GET\", mywot_api_endpoint, data=payload, headers=headers, params=querystring)\n",
    "    data = response.text.replace(\"process\",\"\")\n",
    "    web_of_trust_score = int(data.split(\"[\")[1].split(\",\")[0])\n",
    "    if web_of_trust_score > 80:\n",
    "        return \"verified\"\n",
    "    else:\n",
    "        return \"not verified\""
   ]
  },
  {
   "cell_type": "code",
   "execution_count": 24,
   "metadata": {
    "collapsed": false
   },
   "outputs": [
    {
     "data": {
      "text/plain": [
       "'verified'"
      ]
     },
     "execution_count": 24,
     "metadata": {},
     "output_type": "execute_result"
    }
   ],
   "source": [
    "verified_links(\"www.cnn.com\")"
   ]
  }
 ],
 "metadata": {
  "kernelspec": {
   "display_name": "Python 3",
   "language": "python",
   "name": "python3"
  },
  "language_info": {
   "codemirror_mode": {
    "name": "ipython",
    "version": 3
   },
   "file_extension": ".py",
   "mimetype": "text/x-python",
   "name": "python",
   "nbconvert_exporter": "python",
   "pygments_lexer": "ipython3",
   "version": "3.6.0"
  }
 },
 "nbformat": 4,
 "nbformat_minor": 2
}
